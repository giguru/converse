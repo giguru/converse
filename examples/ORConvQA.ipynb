{
 "cells": [
  {
   "cell_type": "markdown",
   "metadata": {},
   "source": [
    "# Open-retrieval Conversation Question Answering\n",
    "Based on the paper _Open-retrieval Conversation Question Answering_ by _Qu et al_.\n",
    "\n",
    "Since ConverSE is built upon Haystack. This notebook is very similar to the original notebook on Dense Passage Retrieval https://colab.research.google.com/github/deepset-ai/haystack/blob/master/tutorials/Tutorial6_Better_Retrieval_via_DPR.ipynb#scrollTo=kFwiPP60A6N7"
   ]
  },
  {
   "cell_type": "markdown",
   "metadata": {},
   "source": [
    "## Prepare environment"
   ]
  },
  {
   "cell_type": "code",
   "execution_count": 4,
   "metadata": {},
   "outputs": [
    {
     "name": "stdout",
     "output_type": "stream",
     "text": [
      "/bin/sh: nvidia-smi: command not found\n",
      "Collecting git+https://github.com/deepset-ai/haystack.git\n",
      "  Cloning https://github.com/deepset-ai/haystack.git to /private/var/folders/n3/qrq_p64n7hn0ln41q671bk8w0000gn/T/pip-req-build-3k86i78x\n",
      "Requirement already satisfied (use --upgrade to upgrade): farm-haystack==0.4.0 from git+https://github.com/deepset-ai/haystack.git in /Users/giguruscheuer/Apps/ConverSE/haystack\n",
      "Requirement already satisfied: farm==0.4.9 in /Users/giguruscheuer/Apps/ConverSE/venv/lib/python3.7/site-packages (from farm-haystack==0.4.0) (0.4.9)\n",
      "Requirement already satisfied: fastapi in /Users/giguruscheuer/Apps/ConverSE/venv/lib/python3.7/site-packages (from farm-haystack==0.4.0) (0.61.1)\n",
      "Requirement already satisfied: uvicorn in /Users/giguruscheuer/Apps/ConverSE/venv/lib/python3.7/site-packages (from farm-haystack==0.4.0) (0.11.8)\n",
      "Requirement already satisfied: gunicorn in /Users/giguruscheuer/Apps/ConverSE/venv/lib/python3.7/site-packages (from farm-haystack==0.4.0) (20.0.4)\n",
      "Requirement already satisfied: pandas in /Users/giguruscheuer/Apps/ConverSE/venv/lib/python3.7/site-packages (from farm-haystack==0.4.0) (1.1.2)\n",
      "Requirement already satisfied: psycopg2-binary in /Users/giguruscheuer/Apps/ConverSE/venv/lib/python3.7/site-packages (from farm-haystack==0.4.0) (2.8.6)\n",
      "Requirement already satisfied: sklearn in /Users/giguruscheuer/Apps/ConverSE/venv/lib/python3.7/site-packages (from farm-haystack==0.4.0) (0.0)\n",
      "Requirement already satisfied: elasticsearch in /Users/giguruscheuer/Apps/ConverSE/venv/lib/python3.7/site-packages (from farm-haystack==0.4.0) (7.9.1)\n",
      "Requirement already satisfied: elastic-apm in /Users/giguruscheuer/Apps/ConverSE/venv/lib/python3.7/site-packages (from farm-haystack==0.4.0) (5.9.0)\n",
      "Requirement already satisfied: tox in /Users/giguruscheuer/Apps/ConverSE/venv/lib/python3.7/site-packages (from farm-haystack==0.4.0) (3.20.0)\n",
      "Requirement already satisfied: coverage in /Users/giguruscheuer/Apps/ConverSE/venv/lib/python3.7/site-packages (from farm-haystack==0.4.0) (5.3)\n",
      "Requirement already satisfied: langdetect in /Users/giguruscheuer/Apps/ConverSE/venv/lib/python3.7/site-packages (from farm-haystack==0.4.0) (1.0.8)\n",
      "Requirement already satisfied: python-multipart in /Users/giguruscheuer/Apps/ConverSE/venv/lib/python3.7/site-packages (from farm-haystack==0.4.0) (0.0.5)\n",
      "Requirement already satisfied: python-docx in /Users/giguruscheuer/Apps/ConverSE/venv/lib/python3.7/site-packages (from farm-haystack==0.4.0) (0.8.10)\n",
      "Requirement already satisfied: sqlalchemy_utils in /Users/giguruscheuer/Apps/ConverSE/venv/lib/python3.7/site-packages (from farm-haystack==0.4.0) (0.36.8)\n",
      "Requirement already satisfied: faiss-cpu in /Users/giguruscheuer/Apps/ConverSE/venv/lib/python3.7/site-packages (from farm-haystack==0.4.0) (1.6.3)\n",
      "Requirement already satisfied: tika in /Users/giguruscheuer/Apps/ConverSE/venv/lib/python3.7/site-packages (from farm-haystack==0.4.0) (1.24)\n",
      "Requirement already satisfied: uvloop in /Users/giguruscheuer/Apps/ConverSE/venv/lib/python3.7/site-packages (from farm-haystack==0.4.0) (0.14.0)\n",
      "Requirement already satisfied: httptools in /Users/giguruscheuer/Apps/ConverSE/venv/lib/python3.7/site-packages (from farm-haystack==0.4.0) (0.1.1)\n",
      "Requirement already satisfied: dill in /Users/giguruscheuer/Apps/ConverSE/venv/lib/python3.7/site-packages (from farm==0.4.9->farm-haystack==0.4.0) (0.3.2)\n",
      "Requirement already satisfied: scipy>=1.3.2 in /Users/giguruscheuer/Apps/ConverSE/venv/lib/python3.7/site-packages (from farm==0.4.9->farm-haystack==0.4.0) (1.5.2)\n",
      "Requirement already satisfied: transformers==3.1.0 in /Users/giguruscheuer/Apps/ConverSE/venv/lib/python3.7/site-packages (from farm==0.4.9->farm-haystack==0.4.0) (3.1.0)\n",
      "Requirement already satisfied: boto3 in /Users/giguruscheuer/Apps/ConverSE/venv/lib/python3.7/site-packages (from farm==0.4.9->farm-haystack==0.4.0) (1.15.6)\n",
      "Requirement already satisfied: flask in /Users/giguruscheuer/Apps/ConverSE/venv/lib/python3.7/site-packages (from farm==0.4.9->farm-haystack==0.4.0) (1.1.2)\n",
      "Requirement already satisfied: mlflow==1.0.0 in /Users/giguruscheuer/Apps/ConverSE/venv/lib/python3.7/site-packages (from farm==0.4.9->farm-haystack==0.4.0) (1.0.0)\n",
      "Requirement already satisfied: flask-cors in /Users/giguruscheuer/Apps/ConverSE/venv/lib/python3.7/site-packages (from farm==0.4.9->farm-haystack==0.4.0) (3.0.9)\n",
      "Requirement already satisfied: setuptools in /Users/giguruscheuer/Apps/ConverSE/venv/lib/python3.7/site-packages (from farm==0.4.9->farm-haystack==0.4.0) (50.3.0)\n",
      "Requirement already satisfied: seqeval in /Users/giguruscheuer/Apps/ConverSE/venv/lib/python3.7/site-packages (from farm==0.4.9->farm-haystack==0.4.0) (0.0.12)\n",
      "Requirement already satisfied: dotmap==1.3.0 in /Users/giguruscheuer/Apps/ConverSE/venv/lib/python3.7/site-packages (from farm==0.4.9->farm-haystack==0.4.0) (1.3.0)\n",
      "Requirement already satisfied: flask-restplus in /Users/giguruscheuer/Apps/ConverSE/venv/lib/python3.7/site-packages (from farm==0.4.9->farm-haystack==0.4.0) (0.13.0)\n",
      "Requirement already satisfied: Werkzeug==0.16.1 in /Users/giguruscheuer/Apps/ConverSE/venv/lib/python3.7/site-packages (from farm==0.4.9->farm-haystack==0.4.0) (0.16.1)\n",
      "Requirement already satisfied: torch<1.7,>1.5 in /Users/giguruscheuer/Apps/ConverSE/venv/lib/python3.7/site-packages (from farm==0.4.9->farm-haystack==0.4.0) (1.6.0)\n",
      "Requirement already satisfied: tqdm in /Users/giguruscheuer/Apps/ConverSE/venv/lib/python3.7/site-packages (from farm==0.4.9->farm-haystack==0.4.0) (4.50.0)\n",
      "Requirement already satisfied: psutil in /Users/giguruscheuer/Apps/ConverSE/venv/lib/python3.7/site-packages (from farm==0.4.9->farm-haystack==0.4.0) (5.7.2)\n",
      "Requirement already satisfied: requests in /Users/giguruscheuer/Apps/ConverSE/venv/lib/python3.7/site-packages (from farm==0.4.9->farm-haystack==0.4.0) (2.24.0)\n",
      "Requirement already satisfied: wheel in /Users/giguruscheuer/Apps/ConverSE/venv/lib/python3.7/site-packages (from farm==0.4.9->farm-haystack==0.4.0) (0.35.1)\n",
      "Requirement already satisfied: starlette==0.13.6 in /Users/giguruscheuer/Apps/ConverSE/venv/lib/python3.7/site-packages (from fastapi->farm-haystack==0.4.0) (0.13.6)\n",
      "Requirement already satisfied: pydantic<2.0.0,>=1.0.0 in /Users/giguruscheuer/Apps/ConverSE/venv/lib/python3.7/site-packages (from fastapi->farm-haystack==0.4.0) (1.6.1)\n",
      "Requirement already satisfied: h11<0.10,>=0.8 in /Users/giguruscheuer/Apps/ConverSE/venv/lib/python3.7/site-packages (from uvicorn->farm-haystack==0.4.0) (0.9.0)\n",
      "Requirement already satisfied: websockets==8.* in /Users/giguruscheuer/Apps/ConverSE/venv/lib/python3.7/site-packages (from uvicorn->farm-haystack==0.4.0) (8.1)\n",
      "Requirement already satisfied: click==7.* in /Users/giguruscheuer/Apps/ConverSE/venv/lib/python3.7/site-packages (from uvicorn->farm-haystack==0.4.0) (7.1.2)\n",
      "Requirement already satisfied: python-dateutil>=2.7.3 in /Users/giguruscheuer/Apps/ConverSE/venv/lib/python3.7/site-packages (from pandas->farm-haystack==0.4.0) (2.8.1)\n",
      "Requirement already satisfied: numpy>=1.15.4 in /Users/giguruscheuer/Apps/ConverSE/venv/lib/python3.7/site-packages (from pandas->farm-haystack==0.4.0) (1.19.2)\n",
      "Requirement already satisfied: pytz>=2017.2 in /Users/giguruscheuer/Apps/ConverSE/venv/lib/python3.7/site-packages (from pandas->farm-haystack==0.4.0) (2020.1)\n",
      "Requirement already satisfied: scikit-learn in /Users/giguruscheuer/Apps/ConverSE/venv/lib/python3.7/site-packages (from sklearn->farm-haystack==0.4.0) (0.23.2)\n",
      "Requirement already satisfied: urllib3>=1.21.1 in /Users/giguruscheuer/Apps/ConverSE/venv/lib/python3.7/site-packages (from elasticsearch->farm-haystack==0.4.0) (1.25.10)\n",
      "Requirement already satisfied: certifi in /Library/Frameworks/Python.framework/Versions/3.7/lib/python3.7/site-packages (from elasticsearch->farm-haystack==0.4.0) (2018.10.15)\n",
      "Requirement already satisfied: virtualenv!=20.0.0,!=20.0.1,!=20.0.2,!=20.0.3,!=20.0.4,!=20.0.5,!=20.0.6,!=20.0.7,>=16.0.0 in /Users/giguruscheuer/Apps/ConverSE/venv/lib/python3.7/site-packages (from tox->farm-haystack==0.4.0) (20.0.31)\n",
      "Requirement already satisfied: py>=1.4.17 in /Users/giguruscheuer/Apps/ConverSE/venv/lib/python3.7/site-packages (from tox->farm-haystack==0.4.0) (1.9.0)\n",
      "Requirement already satisfied: importlib-metadata<2,>=0.12; python_version < \"3.8\" in /Users/giguruscheuer/Apps/ConverSE/venv/lib/python3.7/site-packages (from tox->farm-haystack==0.4.0) (1.7.0)\n",
      "Requirement already satisfied: pluggy>=0.12.0 in /Users/giguruscheuer/Apps/ConverSE/venv/lib/python3.7/site-packages (from tox->farm-haystack==0.4.0) (0.13.1)\n",
      "Requirement already satisfied: filelock>=3.0.0 in /Users/giguruscheuer/Apps/ConverSE/venv/lib/python3.7/site-packages (from tox->farm-haystack==0.4.0) (3.0.12)\n",
      "Requirement already satisfied: packaging>=14 in /Users/giguruscheuer/Apps/ConverSE/venv/lib/python3.7/site-packages (from tox->farm-haystack==0.4.0) (20.4)\n",
      "Requirement already satisfied: six>=1.14.0 in /Users/giguruscheuer/Apps/ConverSE/venv/lib/python3.7/site-packages (from tox->farm-haystack==0.4.0) (1.15.0)\n",
      "Requirement already satisfied: toml>=0.9.4 in /Users/giguruscheuer/Apps/ConverSE/venv/lib/python3.7/site-packages (from tox->farm-haystack==0.4.0) (0.10.1)\n",
      "Requirement already satisfied: lxml>=2.3.2 in /Users/giguruscheuer/Apps/ConverSE/venv/lib/python3.7/site-packages (from python-docx->farm-haystack==0.4.0) (4.5.2)\n",
      "Requirement already satisfied: SQLAlchemy>=1.0 in /Users/giguruscheuer/Apps/ConverSE/venv/lib/python3.7/site-packages (from sqlalchemy_utils->farm-haystack==0.4.0) (1.3.19)\n"
     ]
    },
    {
     "name": "stdout",
     "output_type": "stream",
     "text": [
      "Requirement already satisfied: regex!=2019.12.17 in /Users/giguruscheuer/Apps/ConverSE/venv/lib/python3.7/site-packages (from transformers==3.1.0->farm==0.4.9->farm-haystack==0.4.0) (2020.9.27)\n",
      "Requirement already satisfied: sentencepiece!=0.1.92 in /Users/giguruscheuer/Apps/ConverSE/venv/lib/python3.7/site-packages (from transformers==3.1.0->farm==0.4.9->farm-haystack==0.4.0) (0.1.91)\n",
      "Requirement already satisfied: tokenizers==0.8.1.rc2 in /Users/giguruscheuer/Apps/ConverSE/venv/lib/python3.7/site-packages (from transformers==3.1.0->farm==0.4.9->farm-haystack==0.4.0) (0.8.1rc2)\n",
      "Requirement already satisfied: sacremoses in /Users/giguruscheuer/Apps/ConverSE/venv/lib/python3.7/site-packages (from transformers==3.1.0->farm==0.4.9->farm-haystack==0.4.0) (0.0.43)\n",
      "Requirement already satisfied: jmespath<1.0.0,>=0.7.1 in /Users/giguruscheuer/Apps/ConverSE/venv/lib/python3.7/site-packages (from boto3->farm==0.4.9->farm-haystack==0.4.0) (0.10.0)\n",
      "Requirement already satisfied: s3transfer<0.4.0,>=0.3.0 in /Users/giguruscheuer/Apps/ConverSE/venv/lib/python3.7/site-packages (from boto3->farm==0.4.9->farm-haystack==0.4.0) (0.3.3)\n",
      "Requirement already satisfied: botocore<1.19.0,>=1.18.6 in /Users/giguruscheuer/Apps/ConverSE/venv/lib/python3.7/site-packages (from boto3->farm==0.4.9->farm-haystack==0.4.0) (1.18.6)\n",
      "Requirement already satisfied: Jinja2>=2.10.1 in /Users/giguruscheuer/Apps/ConverSE/venv/lib/python3.7/site-packages (from flask->farm==0.4.9->farm-haystack==0.4.0) (2.11.2)\n",
      "Requirement already satisfied: itsdangerous>=0.24 in /Users/giguruscheuer/Apps/ConverSE/venv/lib/python3.7/site-packages (from flask->farm==0.4.9->farm-haystack==0.4.0) (1.1.0)\n",
      "Requirement already satisfied: gitpython>=2.1.0 in /Users/giguruscheuer/Apps/ConverSE/venv/lib/python3.7/site-packages (from mlflow==1.0.0->farm==0.4.9->farm-haystack==0.4.0) (3.1.8)\n",
      "Requirement already satisfied: cloudpickle in /Users/giguruscheuer/Apps/ConverSE/venv/lib/python3.7/site-packages (from mlflow==1.0.0->farm==0.4.9->farm-haystack==0.4.0) (1.6.0)\n",
      "Requirement already satisfied: querystring-parser in /Users/giguruscheuer/Apps/ConverSE/venv/lib/python3.7/site-packages (from mlflow==1.0.0->farm==0.4.9->farm-haystack==0.4.0) (1.2.4)\n",
      "Requirement already satisfied: alembic in /Users/giguruscheuer/Apps/ConverSE/venv/lib/python3.7/site-packages (from mlflow==1.0.0->farm==0.4.9->farm-haystack==0.4.0) (1.4.3)\n",
      "Requirement already satisfied: simplejson in /Users/giguruscheuer/Apps/ConverSE/venv/lib/python3.7/site-packages (from mlflow==1.0.0->farm==0.4.9->farm-haystack==0.4.0) (3.17.2)\n",
      "Requirement already satisfied: databricks-cli>=0.8.0 in /Users/giguruscheuer/Apps/ConverSE/venv/lib/python3.7/site-packages (from mlflow==1.0.0->farm==0.4.9->farm-haystack==0.4.0) (0.12.0)\n",
      "Requirement already satisfied: entrypoints in /Users/giguruscheuer/Apps/ConverSE/venv/lib/python3.7/site-packages (from mlflow==1.0.0->farm==0.4.9->farm-haystack==0.4.0) (0.3)\n",
      "Requirement already satisfied: protobuf>=3.6.0 in /Users/giguruscheuer/Apps/ConverSE/venv/lib/python3.7/site-packages (from mlflow==1.0.0->farm==0.4.9->farm-haystack==0.4.0) (3.13.0)\n",
      "Requirement already satisfied: sqlparse in /Users/giguruscheuer/Apps/ConverSE/venv/lib/python3.7/site-packages (from mlflow==1.0.0->farm==0.4.9->farm-haystack==0.4.0) (0.3.1)\n",
      "Requirement already satisfied: docker>=3.6.0 in /Users/giguruscheuer/Apps/ConverSE/venv/lib/python3.7/site-packages (from mlflow==1.0.0->farm==0.4.9->farm-haystack==0.4.0) (4.3.1)\n",
      "Requirement already satisfied: pyyaml in /Users/giguruscheuer/Apps/ConverSE/venv/lib/python3.7/site-packages (from mlflow==1.0.0->farm==0.4.9->farm-haystack==0.4.0) (5.3.1)\n",
      "Requirement already satisfied: Keras>=2.2.4 in /Users/giguruscheuer/Apps/ConverSE/venv/lib/python3.7/site-packages (from seqeval->farm==0.4.9->farm-haystack==0.4.0) (2.4.3)\n",
      "Requirement already satisfied: jsonschema in /Users/giguruscheuer/Apps/ConverSE/venv/lib/python3.7/site-packages (from flask-restplus->farm==0.4.9->farm-haystack==0.4.0) (3.2.0)\n",
      "Requirement already satisfied: aniso8601>=0.82 in /Users/giguruscheuer/Apps/ConverSE/venv/lib/python3.7/site-packages (from flask-restplus->farm==0.4.9->farm-haystack==0.4.0) (8.0.0)\n",
      "Requirement already satisfied: future in /Users/giguruscheuer/Apps/ConverSE/venv/lib/python3.7/site-packages (from torch<1.7,>1.5->farm==0.4.9->farm-haystack==0.4.0) (0.18.2)\n",
      "Requirement already satisfied: chardet<4,>=3.0.2 in /Users/giguruscheuer/Apps/ConverSE/venv/lib/python3.7/site-packages (from requests->farm==0.4.9->farm-haystack==0.4.0) (3.0.4)\n",
      "Requirement already satisfied: idna<3,>=2.5 in /Users/giguruscheuer/Apps/ConverSE/venv/lib/python3.7/site-packages (from requests->farm==0.4.9->farm-haystack==0.4.0) (2.10)\n",
      "Requirement already satisfied: threadpoolctl>=2.0.0 in /Users/giguruscheuer/Apps/ConverSE/venv/lib/python3.7/site-packages (from scikit-learn->sklearn->farm-haystack==0.4.0) (2.1.0)\n",
      "Requirement already satisfied: joblib>=0.11 in /Users/giguruscheuer/Apps/ConverSE/venv/lib/python3.7/site-packages (from scikit-learn->sklearn->farm-haystack==0.4.0) (0.16.0)\n",
      "Requirement already satisfied: distlib<1,>=0.3.1 in /Users/giguruscheuer/Apps/ConverSE/venv/lib/python3.7/site-packages (from virtualenv!=20.0.0,!=20.0.1,!=20.0.2,!=20.0.3,!=20.0.4,!=20.0.5,!=20.0.6,!=20.0.7,>=16.0.0->tox->farm-haystack==0.4.0) (0.3.1)\n",
      "Requirement already satisfied: appdirs<2,>=1.4.3 in /Users/giguruscheuer/Apps/ConverSE/venv/lib/python3.7/site-packages (from virtualenv!=20.0.0,!=20.0.1,!=20.0.2,!=20.0.3,!=20.0.4,!=20.0.5,!=20.0.6,!=20.0.7,>=16.0.0->tox->farm-haystack==0.4.0) (1.4.4)\n",
      "Requirement already satisfied: zipp>=0.5 in /Users/giguruscheuer/Apps/ConverSE/venv/lib/python3.7/site-packages (from importlib-metadata<2,>=0.12; python_version < \"3.8\"->tox->farm-haystack==0.4.0) (3.2.0)\n",
      "Requirement already satisfied: pyparsing>=2.0.2 in /Library/Frameworks/Python.framework/Versions/3.7/lib/python3.7/site-packages (from packaging>=14->tox->farm-haystack==0.4.0) (2.3.1)\n",
      "Requirement already satisfied: MarkupSafe>=0.23 in /Users/giguruscheuer/Apps/ConverSE/venv/lib/python3.7/site-packages (from Jinja2>=2.10.1->flask->farm==0.4.9->farm-haystack==0.4.0) (1.1.1)\n",
      "Requirement already satisfied: gitdb<5,>=4.0.1 in /Users/giguruscheuer/Apps/ConverSE/venv/lib/python3.7/site-packages (from gitpython>=2.1.0->mlflow==1.0.0->farm==0.4.9->farm-haystack==0.4.0) (4.0.5)\n",
      "Requirement already satisfied: Mako in /Users/giguruscheuer/Apps/ConverSE/venv/lib/python3.7/site-packages (from alembic->mlflow==1.0.0->farm==0.4.9->farm-haystack==0.4.0) (1.1.3)\n",
      "Requirement already satisfied: python-editor>=0.3 in /Users/giguruscheuer/Apps/ConverSE/venv/lib/python3.7/site-packages (from alembic->mlflow==1.0.0->farm==0.4.9->farm-haystack==0.4.0) (1.0.4)\n",
      "Requirement already satisfied: tabulate>=0.7.7 in /Users/giguruscheuer/Apps/ConverSE/venv/lib/python3.7/site-packages (from databricks-cli>=0.8.0->mlflow==1.0.0->farm==0.4.9->farm-haystack==0.4.0) (0.8.7)\n",
      "Requirement already satisfied: tenacity>=6.2.0 in /Users/giguruscheuer/Apps/ConverSE/venv/lib/python3.7/site-packages (from databricks-cli>=0.8.0->mlflow==1.0.0->farm==0.4.9->farm-haystack==0.4.0) (6.2.0)\n",
      "Requirement already satisfied: websocket-client>=0.32.0 in /Users/giguruscheuer/Apps/ConverSE/venv/lib/python3.7/site-packages (from docker>=3.6.0->mlflow==1.0.0->farm==0.4.9->farm-haystack==0.4.0) (0.57.0)\n",
      "Requirement already satisfied: h5py in /Users/giguruscheuer/Apps/ConverSE/venv/lib/python3.7/site-packages (from Keras>=2.2.4->seqeval->farm==0.4.9->farm-haystack==0.4.0) (2.10.0)\n",
      "Requirement already satisfied: attrs>=17.4.0 in /Users/giguruscheuer/Apps/ConverSE/venv/lib/python3.7/site-packages (from jsonschema->flask-restplus->farm==0.4.9->farm-haystack==0.4.0) (20.2.0)\n",
      "Requirement already satisfied: pyrsistent>=0.14.0 in /Users/giguruscheuer/Apps/ConverSE/venv/lib/python3.7/site-packages (from jsonschema->flask-restplus->farm==0.4.9->farm-haystack==0.4.0) (0.17.3)\n",
      "Requirement already satisfied: smmap<4,>=3.0.1 in /Users/giguruscheuer/Apps/ConverSE/venv/lib/python3.7/site-packages (from gitdb<5,>=4.0.1->gitpython>=2.1.0->mlflow==1.0.0->farm==0.4.9->farm-haystack==0.4.0) (3.0.4)\n",
      "Building wheels for collected packages: farm-haystack\n"
     ]
    },
    {
     "name": "stdout",
     "output_type": "stream",
     "text": [
      "  Building wheel for farm-haystack (setup.py) ... \u001B[?25ldone\n",
      "\u001B[?25h  Created wheel for farm-haystack: filename=farm_haystack-0.4.0-py3-none-any.whl size=82059 sha256=da9eb10ac22dfd764b2ad654d2f8817001d5e7870422865fee0876d2058213c0\n",
      "  Stored in directory: /private/var/folders/n3/qrq_p64n7hn0ln41q671bk8w0000gn/T/pip-ephem-wheel-cache-cwvgt6kn/wheels/a7/05/3b/9b33368d9af06a39f8e6af2e97fa2af876e893ade323cfc2c9\n",
      "Successfully built farm-haystack\n"
     ]
    }
   ],
   "source": [
    "# Make sure you have a GPU running\n",
    "!nvidia-smi\n",
    "\n",
    "\n",
    "!pip install git+https://github.com/deepset-ai/haystack.git v# Install the latest master of Haystack\n",
    "!pip install git+https://github.com/giguru/converse.git  # Install the latest master of Converse"
   ]
  },
  {
   "cell_type": "code",
   "execution_count": 5,
   "metadata": {},
   "outputs": [],
   "source": [
    "from haystack import Finder\n",
    "from haystack.preprocessor.cleaning import clean_wiki_text\n",
    "from haystack.document_store.elasticsearch import ElasticsearchDocumentStore\n",
    "from haystack.preprocessor.utils import convert_files_to_dicts, fetch_archive_from_http\n",
    "from haystack.utils import print_answers\n",
    "\n",
    "from converse.src.reader.farm import FARMReader\n",
    "from converse.src.reader.transformers import TransformersReader\n",
    "from converse.src.retriever.dense_passage_retriever import DensePassageRetriever\n",
    "from converse.src.converse import Converse"
   ]
  },
  {
   "cell_type": "markdown",
   "metadata": {},
   "source": [
    "## Indexer and data\n",
    "\n",
    "Add document collection to a DocumentStore. The original text will be indexed. Conversion into embeddings can be\n",
    "is done below."
   ]
  },
  {
   "cell_type": "code",
   "execution_count": 6,
   "metadata": {},
   "outputs": [
    {
     "name": "stderr",
     "output_type": "stream",
     "text": [
      "10/01/2020 19:22:27 - INFO - faiss -   Loading faiss.\n"
     ]
    }
   ],
   "source": [
    "# In Colab / No Docker environments: Start Elasticsearch from source\n",
    "! wget https://artifacts.elastic.co/downloads/elasticsearch/elasticsearch-7.6.2-linux-x86_64.tar.gz -q\n",
    "! tar -xzf elasticsearch-7.6.2-linux-x86_64.tar.gz\n",
    "! chown -R daemon:daemon elasticsearch-7.6.2\n",
    "\n",
    "import os\n",
    "from subprocess import Popen, PIPE, STDOUT\n",
    "es_server = Popen(['elasticsearch-7.6.2/bin/elasticsearch'],\n",
    "                   stdout=PIPE, stderr=STDOUT,\n",
    "                   preexec_fn=lambda: os.setuid(1)  # as daemon\n",
    "                  )\n",
    "# wait until ES has started\n",
    "! sleep 30"
   ]
  },
  {
   "cell_type": "code",
   "execution_count": null,
   "outputs": [],
   "source": [
    "# Download evaluation data, which is a subset of Natural Questions development set containing 50 documents\n",
    "doc_dir = \"../data/nq\"\n",
    "s3_url = \"https://s3.eu-central-1.amazonaws.com/deepset.ai-farm-qa/datasets/nq_dev_subset_v2.json.zip\"\n",
    "fetch_archive_from_http(url=s3_url, output_dir=doc_dir)"
   ],
   "metadata": {
    "collapsed": false,
    "pycharm": {
     "name": "#%%\n"
    }
   }
  },
  {
   "cell_type": "code",
   "execution_count": null,
   "outputs": [],
   "source": [
    "# make sure these indices do not collide with existing ones, the indices will be wiped clean before data is inserted\n",
    "doc_index = \"tutorial5_docs\"\n",
    "label_index = \"tutorial5_labels\""
   ],
   "metadata": {
    "collapsed": false,
    "pycharm": {
     "name": "#%%\n"
    }
   }
  },
  {
   "cell_type": "code",
   "execution_count": null,
   "outputs": [],
   "source": [
    "# Add document collection to a DocumentStore. The original text will be indexed. Conversion into embeddings can be\n",
    "# is done below.\n",
    "document_store = ElasticsearchDocumentStore(host=\"localhost\", username=\"\", password=\"\", index=\"document\",\n",
    "                                            create_index=False, embedding_field=\"emb\",\n",
    "                                            embedding_dim=768, excluded_meta_data=[\"emb\"])"
   ],
   "metadata": {
    "collapsed": false,
    "pycharm": {
     "name": "#%%\n"
    }
   }
  },
  {
   "cell_type": "code",
   "execution_count": null,
   "outputs": [],
   "source": [
    "# Add evaluation data to Elasticsearch Document Store\n",
    "# We first delete the custom tutorial indices to not have duplicate elements\n",
    "document_store.delete_all_documents(index=doc_index)\n",
    "document_store.delete_all_documents(index=label_index)\n",
    "document_store.add_eval_data(filename=\"../data/nq/nq_dev_subset_v2.json\", doc_index=doc_index, label_index=label_index)"
   ],
   "metadata": {
    "collapsed": false,
    "pycharm": {
     "name": "#%%\n"
    }
   }
  },
  {
   "cell_type": "code",
   "execution_count": 7,
   "metadata": {},
   "outputs": [
    {
     "name": "stderr",
     "output_type": "stream",
     "text": [
      "Some weights of DPRQuestionEncoder were not initialized from the model checkpoint at facebook/dpr-question_encoder-single-nq-base and are newly initialized: ['question_encoder.bert_model.embeddings.position_ids']\n",
      "You should probably TRAIN this model on a down-stream task to be able to use it for predictions and inference.\n",
      "Some weights of DPRContextEncoder were not initialized from the model checkpoint at facebook/dpr-ctx_encoder-single-nq-base and are newly initialized: ['ctx_encoder.bert_model.embeddings.position_ids']\n",
      "You should probably TRAIN this model on a down-stream task to be able to use it for predictions and inference.\n"
     ]
    }
   ],
   "source": [
    "retriever = DensePassageRetriever(\n",
    "    document_store=document_store,\n",
    "    query_embedding_model=\"facebook/dpr-question_encoder-single-nq-base\",  # TODO replace with ORConvQA model\n",
    "    passage_embedding_model=\"facebook/dpr-ctx_encoder-single-nq-base\",  # TODO replace with ORConvQA model\n",
    "    use_gpu=True,\n",
    "    embed_title=True,\n",
    "    max_seq_len=256,\n",
    "    batch_size=16,\n",
    "    remove_sep_tok_from_untitled_passages=True\n",
    ")"
   ]
  },
  {
   "cell_type": "markdown",
   "metadata": {},
   "source": [
    "# Embed passages\n",
    "Since retrieval will be done on the embeddings, the embedding representation of the documents need to be computed\n",
    "This only needs to be done once."
   ]
  },
  {
   "cell_type": "code",
   "execution_count": 8,
   "metadata": {},
   "outputs": [],
   "source": [
    "document_store.update_embeddings(retriever)"
   ]
  },
  {
   "cell_type": "code",
   "execution_count": 9,
   "metadata": {},
   "outputs": [
    {
     "name": "stderr",
     "output_type": "stream",
     "text": [
      "10/01/2020 19:23:18 - INFO - farm.utils -   device: cpu n_gpu: 0, distributed training: False, automatic mixed precision training: None\n",
      "10/01/2020 19:23:18 - INFO - farm.infer -   Could not find `deepset/roberta-base-squad2` locally. Try to download from model hub ...\n",
      "10/01/2020 19:23:22 - WARNING - farm.modeling.language_model -   Could not automatically detect from language model name what language it is. \n",
      "\t We guess it's an *ENGLISH* model ... \n",
      "\t If not: Init the language model by supplying the 'language' param.\n",
      "10/01/2020 19:23:25 - WARNING - farm.modeling.prediction_head -   Some unused parameters are passed to the QuestionAnsweringHead. Might not be a problem. Params: {\"loss_ignore_index\": -1}\n",
      "10/01/2020 19:23:29 - INFO - farm.utils -   device: cpu n_gpu: 0, distributed training: False, automatic mixed precision training: None\n",
      "10/01/2020 19:23:29 - INFO - farm.infer -   Got ya 7 parallel workers to do inference ...\n",
      "10/01/2020 19:23:29 - INFO - farm.infer -    0    0    0    0    0    0    0 \n",
      "10/01/2020 19:23:29 - INFO - farm.infer -   /w\\  /w\\  /w\\  /w\\  /w\\  /w\\  /w\\\n",
      "10/01/2020 19:23:29 - INFO - farm.infer -   /'\\  / \\  /'\\  /'\\  / \\  / \\  /'\\\n",
      "10/01/2020 19:23:29 - INFO - farm.infer -               \n"
     ]
    }
   ],
   "source": [
    "# Load a local model or any of the QA models on Hugging Face's model hub (https://huggingface.co/models)\n",
    "reader = FARMReader(model_name_or_path=\"deepset/roberta-base-squad2\", use_gpu=True)"
   ]
  },
  {
   "cell_type": "code",
   "execution_count": 10,
   "metadata": {},
   "outputs": [],
   "source": [
    "finder = Converse(reader, retrievers=[retriever])"
   ]
  },
  {
   "cell_type": "markdown",
   "metadata": {},
   "source": [
    "## Evaluate pipeline"
   ]
  },
  {
   "cell_type": "code",
   "execution_count": 12,
   "metadata": {},
   "outputs": [
    {
     "ename": "TypeError",
     "evalue": "eval() missing 2 required positional arguments: 'label_index' and 'doc_index'",
     "output_type": "error",
     "traceback": [
      "\u001B[0;31m---------------------------------------------------------------------------\u001B[0m",
      "\u001B[0;31mTypeError\u001B[0m                                 Traceback (most recent call last)",
      "\u001B[0;32m<ipython-input-12-851101747ed7>\u001B[0m in \u001B[0;36m<module>\u001B[0;34m\u001B[0m\n\u001B[1;32m      1\u001B[0m \u001B[0;31m# Evaluate combination of Reader and Retriever through Finder\u001B[0m\u001B[0;34m\u001B[0m\u001B[0;34m\u001B[0m\u001B[0;34m\u001B[0m\u001B[0m\n\u001B[0;32m----> 2\u001B[0;31m \u001B[0mfinder_eval_results\u001B[0m \u001B[0;34m=\u001B[0m \u001B[0mfinder\u001B[0m\u001B[0;34m.\u001B[0m\u001B[0meval\u001B[0m\u001B[0;34m(\u001B[0m\u001B[0mtop_k_retriever\u001B[0m\u001B[0;34m=\u001B[0m\u001B[0;36m1\u001B[0m\u001B[0;34m,\u001B[0m \u001B[0mtop_k_reader\u001B[0m\u001B[0;34m=\u001B[0m\u001B[0;36m10\u001B[0m\u001B[0;34m)\u001B[0m\u001B[0;34m\u001B[0m\u001B[0;34m\u001B[0m\u001B[0m\n\u001B[0m\u001B[1;32m      3\u001B[0m \u001B[0mfinder\u001B[0m\u001B[0;34m.\u001B[0m\u001B[0mprint_eval_results\u001B[0m\u001B[0;34m(\u001B[0m\u001B[0mfinder_eval_results\u001B[0m\u001B[0;34m)\u001B[0m\u001B[0;34m\u001B[0m\u001B[0;34m\u001B[0m\u001B[0m\n",
      "\u001B[0;31mTypeError\u001B[0m: eval() missing 2 required positional arguments: 'label_index' and 'doc_index'"
     ]
    }
   ],
   "source": [
    "# Evaluate combination of Reader and Retriever through Finder\n",
    "finder_eval_results = finder.eval(top_k_retriever=1, top_k_reader=10)\n",
    "finder.print_eval_results(finder_eval_results)"
   ]
  },
  {
   "cell_type": "code",
   "execution_count": null,
   "metadata": {},
   "outputs": [],
   "source": []
  }
 ],
 "metadata": {
  "kernelspec": {
   "display_name": "Python 3",
   "language": "python",
   "name": "python3"
  },
  "language_info": {
   "codemirror_mode": {
    "name": "ipython",
    "version": 3
   },
   "file_extension": ".py",
   "mimetype": "text/x-python",
   "name": "python",
   "nbconvert_exporter": "python",
   "pygments_lexer": "ipython3",
   "version": "3.7.7"
  }
 },
 "nbformat": 4,
 "nbformat_minor": 4
}