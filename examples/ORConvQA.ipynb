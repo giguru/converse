{
 "nbformat": 4,
 "nbformat_minor": 0,
 "metadata": {
  "kernelspec": {
   "display_name": "Python 3",
   "language": "python",
   "name": "python3"
  },
  "language_info": {
   "codemirror_mode": {
    "name": "ipython",
    "version": 3
   },
   "file_extension": ".py",
   "mimetype": "text/x-python",
   "name": "python",
   "nbconvert_exporter": "python",
   "pygments_lexer": "ipython3",
   "version": "3.7.1"
  },
  "colab": {
   "name": "ORConvQA.ipynb",
   "provenance": []
  }
 },
 "cells": [
  {
   "cell_type": "markdown",
   "metadata": {
    "id": "RTiBLQQWqin8"
   },
   "source": [
    "# Open-retrieval Conversation Question Answering\n",
    "Based on the paper _Open-retrieval Conversation Question Answering_ by _Qu et al_.\n",
    "\n",
    "Since ConverSE is built upon Haystack. This notebook is very similar to the original notebook on Dense Passage Retrieval https://colab.research.google.com/github/deepset-ai/haystack/blob/master/tutorials/Tutorial6_Better_Retrieval_via_DPR.ipynb#scrollTo=kFwiPP60A6N7"
   ]
  },
  {
   "cell_type": "markdown",
   "metadata": {
    "id": "iXAeq4i1qin-"
   },
   "source": [
    "## Prepare environment"
   ]
  },
  {
   "cell_type": "code",
   "metadata": {
    "id": "S6aVe3pwqioA"
   },
   "source": [
    "# Make sure you have a GPU running\n",
    "!nvidia-smi\n",
    "\n",
    "!pip install git+https://github.com/deepset-ai/haystack.git # Install the latest master of Haystack\n",
    "!pip install git+https://github.com/giguru/converse.git  # Install the latest master of Converse"
   ],
   "execution_count": null,
   "outputs": []
  },
  {
   "cell_type": "code",
   "metadata": {
    "id": "e1xjhzSEqioI",
    "outputId": "5d8ca7dd-05df-40cf-916c-70bf972963dc"
   },
   "source": [
    "from haystack import Finder\n",
    "from haystack.preprocessor.cleaning import clean_wiki_text\n",
    "from haystack.document_store.elasticsearch import ElasticsearchDocumentStore\n",
    "from haystack.preprocessor.utils import convert_files_to_dicts, fetch_archive_from_http\n",
    "from haystack.utils import print_answers\n",
    "\n",
    "from converse.src.reader.farm import FARMReader\n",
    "from converse.src.reader.transformers import TransformersReader\n",
    "from converse.src.retriever.dense_passage_retriever import DensePassageRetriever\n",
    "from converse.src.converse import Converse"
   ],
   "execution_count": null,
   "outputs": [
    {
     "output_type": "error",
     "ename": "ModuleNotFoundError",
     "evalue": "No module named 'converse'",
     "traceback": [
      "\u001B[0;31m---------------------------------------------------------------------------\u001B[0m",
      "\u001B[0;31mModuleNotFoundError\u001B[0m                       Traceback (most recent call last)",
      "\u001B[0;32m<ipython-input-2-6a65018855e0>\u001B[0m in \u001B[0;36m<module>\u001B[0;34m\u001B[0m\n\u001B[1;32m      5\u001B[0m \u001B[0;32mfrom\u001B[0m \u001B[0mhaystack\u001B[0m\u001B[0;34m.\u001B[0m\u001B[0mutils\u001B[0m \u001B[0;32mimport\u001B[0m \u001B[0mprint_answers\u001B[0m\u001B[0;34m\u001B[0m\u001B[0;34m\u001B[0m\u001B[0m\n\u001B[1;32m      6\u001B[0m \u001B[0;34m\u001B[0m\u001B[0m\n\u001B[0;32m----> 7\u001B[0;31m \u001B[0;32mfrom\u001B[0m \u001B[0mconverse\u001B[0m\u001B[0;34m.\u001B[0m\u001B[0msrc\u001B[0m\u001B[0;34m.\u001B[0m\u001B[0mreader\u001B[0m\u001B[0;34m.\u001B[0m\u001B[0mfarm\u001B[0m \u001B[0;32mimport\u001B[0m \u001B[0mFARMReader\u001B[0m\u001B[0;34m\u001B[0m\u001B[0;34m\u001B[0m\u001B[0m\n\u001B[0m\u001B[1;32m      8\u001B[0m \u001B[0;32mfrom\u001B[0m \u001B[0mconverse\u001B[0m\u001B[0;34m.\u001B[0m\u001B[0msrc\u001B[0m\u001B[0;34m.\u001B[0m\u001B[0mreader\u001B[0m\u001B[0;34m.\u001B[0m\u001B[0mtransformers\u001B[0m \u001B[0;32mimport\u001B[0m \u001B[0mTransformersReader\u001B[0m\u001B[0;34m\u001B[0m\u001B[0;34m\u001B[0m\u001B[0m\n\u001B[1;32m      9\u001B[0m \u001B[0;32mfrom\u001B[0m \u001B[0mconverse\u001B[0m\u001B[0;34m.\u001B[0m\u001B[0msrc\u001B[0m\u001B[0;34m.\u001B[0m\u001B[0mretriever\u001B[0m\u001B[0;34m.\u001B[0m\u001B[0mdense_passage_retriever\u001B[0m \u001B[0;32mimport\u001B[0m \u001B[0mDensePassageRetriever\u001B[0m\u001B[0;34m\u001B[0m\u001B[0;34m\u001B[0m\u001B[0m\n",
      "\u001B[0;31mModuleNotFoundError\u001B[0m: No module named 'converse'"
     ]
    }
   ]
  },
  {
   "cell_type": "markdown",
   "metadata": {
    "id": "B4FBxnPvqioN"
   },
   "source": [
    "## Indexer and data\n",
    "\n",
    "Add document collection to a DocumentStore. The original text will be indexed. Conversion into embeddings can be\n",
    "is done below."
   ]
  },
  {
   "cell_type": "code",
   "metadata": {
    "id": "n-BFhivSqioO"
   },
   "source": [
    "# In Colab / No Docker environments: Start Elasticsearch from source\n",
    "from converse.src.retriever.orconvqa_retriever import ORConvQARetriever\n",
    "! wget https://artifacts.elastic.co/downloads/elasticsearch/elasticsearch-7.6.2-linux-x86_64.tar.gz -q\n",
    "! tar -xzf elasticsearch-7.6.2-linux-x86_64.tar.gz\n",
    "! chown -R daemon:daemon elasticsearch-7.6.2\n",
    "\n",
    "import os\n",
    "from subprocess import Popen, PIPE, STDOUT\n",
    "es_server = Popen(['elasticsearch-7.6.2/bin/elasticsearch'],\n",
    "                   stdout=PIPE, stderr=STDOUT,\n",
    "                   preexec_fn=lambda: os.setuid(1)  # as daemon\n",
    "                  )\n",
    "# wait until ES has started\n",
    "! sleep 30"
   ],
   "execution_count": null,
   "outputs": []
  },
  {
   "cell_type": "code",
   "metadata": {
    "pycharm": {
     "name": "#%%\n"
    },
    "id": "3SQQxjBUqioR"
   },
   "source": [
    "# make sure these indices do not collide with existing ones, the indices will be wiped clean before data is inserted\n",
    "doc_index = \"tutorial5_docs\"\n",
    "label_index = \"tutorial5_labels\""
   ],
   "execution_count": null,
   "outputs": []
  },
  {
   "cell_type": "code",
   "metadata": {
    "pycharm": {
     "name": "#%%\n"
    },
    "id": "rBq0suv7qioU"
   },
   "source": [
    "# Add document collection to a DocumentStore. The original text will be indexed. Conversion into embeddings can be\n",
    "# is done below.\n",
    "document_store = ElasticsearchDocumentStore(host=\"localhost\", username=\"\", password=\"\", index=\"document\",\n",
    "                                            create_index=False, embedding_field=\"emb\",\n",
    "                                            embedding_dim=768, excluded_meta_data=[\"emb\"])"
   ],
   "execution_count": null,
   "outputs": []
  },
  {
   "cell_type": "code",
   "metadata": {
    "pycharm": {
     "name": "#%%\n"
    },
    "id": "LDod21LwqioX"
   },
   "source": [
    "# Download evaluation data, which is a subset of Natural Questions development set containing 50 documents\n",
    "doc_dir = \"../data/nq\"\n",
    "s3_url = \"https://s3.eu-central-1.amazonaws.com/deepset.ai-farm-qa/datasets/nq_dev_subset_v2.json.zip\"\n",
    "fetch_archive_from_http(url=s3_url, output_dir=doc_dir)\n",
    "\n",
    "# Convert files to dicts\n",
    "dicts = convert_files_to_dicts(dir_path=doc_dir, clean_func=clean_wiki_text, split_paragraphs=True)\n",
    "\n",
    "# Now, let's write the dicts containing documents to our DB.\n",
    "document_store.write_documents(dicts)"
   ],
   "execution_count": null,
   "outputs": []
  },
  {
   "cell_type": "code",
   "metadata": {
    "pycharm": {
     "name": "#%%\n"
    },
    "id": "jPkUFyV4qioY"
   },
   "source": [
    "# Add evaluation data to Elasticsearch Document Store\n",
    "# We first delete the custom tutorial indices to not have duplicate elements\n",
    "document_store.delete_all_documents(index=doc_index)\n",
    "document_store.delete_all_documents(index=label_index)\n",
    "document_store.add_eval_data(filename=\"../data/nq/nq_dev_subset_v2.json\", doc_index=doc_index, label_index=label_index)"
   ],
   "execution_count": null,
   "outputs": []
  },
  {
   "cell_type": "code",
   "metadata": {
    "id": "U1K-VnL_qioa",
    "outputId": "bcb0e4fd-72f0-4a7d-f1a5-4e2e8dac2df8"
   },
   "source": [
    "retriever = ORConvQARetriever(\n",
    "    document_store=document_store,\n",
    "    use_gpu=True,\n",
    "    embed_title=True,\n",
    "    max_seq_len=256,\n",
    "    batch_size=16,\n",
    "    remove_sep_tok_from_untitled_passages=True\n",
    ")"
   ],
   "execution_count": null,
   "outputs": [
    {
     "output_type": "stream",
     "text": [
      "Some weights of DPRQuestionEncoder were not initialized from the model checkpoint at facebook/dpr-question_encoder-single-nq-base and are newly initialized: ['question_encoder.bert_model.embeddings.position_ids']\n",
      "You should probably TRAIN this model on a down-stream task to be able to use it for predictions and inference.\n",
      "Some weights of DPRContextEncoder were not initialized from the model checkpoint at facebook/dpr-ctx_encoder-single-nq-base and are newly initialized: ['ctx_encoder.bert_model.embeddings.position_ids']\n",
      "You should probably TRAIN this model on a down-stream task to be able to use it for predictions and inference.\n"
     ],
     "name": "stderr"
    }
   ]
  },
  {
   "cell_type": "markdown",
   "metadata": {
    "id": "tPFE0A6vqioc"
   },
   "source": [
    "# Embed passages\n",
    "Since retrieval will be done on the embeddings, the embedding representation of the documents need to be computed\n",
    "This only needs to be done once."
   ]
  },
  {
   "cell_type": "code",
   "metadata": {
    "id": "Ra4nmGQtqiod"
   },
   "source": [
    "document_store.update_embeddings(retriever)"
   ],
   "execution_count": null,
   "outputs": []
  },
  {
   "cell_type": "code",
   "metadata": {
    "id": "zUaYkKuVqiof",
    "outputId": "f35672b9-2ad5-4c5e-8f19-a61a72bc46d1"
   },
   "source": [
    "# Load a local model or any of the QA models on Hugging Face's model hub (https://huggingface.co/models)\n",
    "reader = FARMReader(model_name_or_path=\"deepset/roberta-base-squad2\", use_gpu=True)"
   ],
   "execution_count": null,
   "outputs": [
    {
     "output_type": "stream",
     "text": [
      "10/01/2020 19:23:18 - INFO - farm.utils -   device: cpu n_gpu: 0, distributed training: False, automatic mixed precision training: None\n",
      "10/01/2020 19:23:18 - INFO - farm.infer -   Could not find `deepset/roberta-base-squad2` locally. Try to download from model hub ...\n",
      "10/01/2020 19:23:22 - WARNING - farm.modeling.language_model -   Could not automatically detect from language model name what language it is. \n",
      "\t We guess it's an *ENGLISH* model ... \n",
      "\t If not: Init the language model by supplying the 'language' param.\n",
      "10/01/2020 19:23:25 - WARNING - farm.modeling.prediction_head -   Some unused parameters are passed to the QuestionAnsweringHead. Might not be a problem. Params: {\"loss_ignore_index\": -1}\n",
      "10/01/2020 19:23:29 - INFO - farm.utils -   device: cpu n_gpu: 0, distributed training: False, automatic mixed precision training: None\n",
      "10/01/2020 19:23:29 - INFO - farm.infer -   Got ya 7 parallel workers to do inference ...\n",
      "10/01/2020 19:23:29 - INFO - farm.infer -    0    0    0    0    0    0    0 \n",
      "10/01/2020 19:23:29 - INFO - farm.infer -   /w\\  /w\\  /w\\  /w\\  /w\\  /w\\  /w\\\n",
      "10/01/2020 19:23:29 - INFO - farm.infer -   /'\\  / \\  /'\\  /'\\  / \\  / \\  /'\\\n",
      "10/01/2020 19:23:29 - INFO - farm.infer -               \n"
     ],
     "name": "stderr"
    }
   ]
  },
  {
   "cell_type": "code",
   "metadata": {
    "id": "IUz3B14Tqioh"
   },
   "source": [
    "finder = Converse(reader, retrievers=[retriever])"
   ],
   "execution_count": null,
   "outputs": []
  },
  {
   "cell_type": "markdown",
   "metadata": {
    "id": "sZE_tlobqioj"
   },
   "source": [
    "## Evaluate pipeline"
   ]
  },
  {
   "cell_type": "code",
   "metadata": {
    "id": "kAO_Dd4iqioj",
    "outputId": "4a76aade-9c3c-42a9-e31f-c106beabb942"
   },
   "source": [
    "# Evaluate combination of Reader and Retriever through Finder\n",
    "finder_eval_results = finder.eval(top_k_retriever=1, top_k_reader=10)\n",
    "finder.print_eval_results(finder_eval_results)"
   ],
   "execution_count": null,
   "outputs": [
    {
     "output_type": "error",
     "ename": "TypeError",
     "evalue": "eval() missing 2 required positional arguments: 'label_index' and 'doc_index'",
     "traceback": [
      "\u001B[0;31m---------------------------------------------------------------------------\u001B[0m",
      "\u001B[0;31mTypeError\u001B[0m                                 Traceback (most recent call last)",
      "\u001B[0;32m<ipython-input-12-851101747ed7>\u001B[0m in \u001B[0;36m<module>\u001B[0;34m\u001B[0m\n\u001B[1;32m      1\u001B[0m \u001B[0;31m# Evaluate combination of Reader and Retriever through Finder\u001B[0m\u001B[0;34m\u001B[0m\u001B[0;34m\u001B[0m\u001B[0;34m\u001B[0m\u001B[0m\n\u001B[0;32m----> 2\u001B[0;31m \u001B[0mfinder_eval_results\u001B[0m \u001B[0;34m=\u001B[0m \u001B[0mfinder\u001B[0m\u001B[0;34m.\u001B[0m\u001B[0meval\u001B[0m\u001B[0;34m(\u001B[0m\u001B[0mtop_k_retriever\u001B[0m\u001B[0;34m=\u001B[0m\u001B[0;36m1\u001B[0m\u001B[0;34m,\u001B[0m \u001B[0mtop_k_reader\u001B[0m\u001B[0;34m=\u001B[0m\u001B[0;36m10\u001B[0m\u001B[0;34m)\u001B[0m\u001B[0;34m\u001B[0m\u001B[0;34m\u001B[0m\u001B[0m\n\u001B[0m\u001B[1;32m      3\u001B[0m \u001B[0mfinder\u001B[0m\u001B[0;34m.\u001B[0m\u001B[0mprint_eval_results\u001B[0m\u001B[0;34m(\u001B[0m\u001B[0mfinder_eval_results\u001B[0m\u001B[0;34m)\u001B[0m\u001B[0;34m\u001B[0m\u001B[0;34m\u001B[0m\u001B[0m\n",
      "\u001B[0;31mTypeError\u001B[0m: eval() missing 2 required positional arguments: 'label_index' and 'doc_index'"
     ]
    }
   ]
  },
  {
   "cell_type": "code",
   "metadata": {
    "id": "36FBiFitqiol"
   },
   "source": [
    ""
   ],
   "execution_count": null,
   "outputs": []
  }
 ]
}